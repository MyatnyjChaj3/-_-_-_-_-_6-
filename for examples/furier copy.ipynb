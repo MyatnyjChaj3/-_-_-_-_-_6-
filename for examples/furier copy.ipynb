{
 "cells": [
  {
   "cell_type": "code",
   "execution_count": 1,
   "metadata": {},
   "outputs": [
    {
     "name": "stdout",
     "output_type": "stream",
     "text": [
      "[ 0  1  2  3  4  5  6  7  8  9 10 11 12 13 14 15]\n"
     ]
    }
   ],
   "source": [
    "from math import *\n",
    "import numpy as np\n",
    "\n",
    "\n",
    "x = np.array(np.arange(16))\n",
    "print(x)"
   ]
  },
  {
   "cell_type": "code",
   "execution_count": 5,
   "metadata": {},
   "outputs": [
    {
     "name": "stdout",
     "output_type": "stream",
     "text": [
      "[ 8.  9. 10. 11. 12. 13. 14. 15. -0.  1.  2.  3.  4.  5.  6.  7.]\n",
      "[-2.11916539e-15 -3.70950549e-15 -6.67107979e-15 -1.65880926e-14\n",
      " -1.69961539e-14 -1.03708436e-14 -9.11357044e-15 -9.03857601e-15\n",
      "  8.98306486e-15  8.72499238e-15  9.76022098e-15  1.71626874e-14\n",
      "  1.58664476e-14  7.39272476e-15  4.20910585e-15  2.50774345e-15]\n"
     ]
    }
   ],
   "source": [
    "X = np.fft.fft(x)\n",
    "\n",
    "m = 8\n",
    "k = np.arange(16)\n",
    "K = 16\n",
    "\n",
    "Y = X * np.exp(((1j * 2*pi) / K) * np.arange(16) *m)\n",
    "y = np.fft.ifft(Y)\n",
    "print(np.round(np.real(y)))\n",
    "print(y.imag)"
   ]
  },
  {
   "cell_type": "code",
   "execution_count": null,
   "metadata": {},
   "outputs": [],
   "source": []
  },
  {
   "cell_type": "code",
   "execution_count": null,
   "metadata": {},
   "outputs": [],
   "source": []
  },
  {
   "cell_type": "code",
   "execution_count": null,
   "metadata": {},
   "outputs": [],
   "source": []
  },
  {
   "cell_type": "code",
   "execution_count": null,
   "metadata": {},
   "outputs": [],
   "source": []
  },
  {
   "cell_type": "code",
   "execution_count": 4,
   "metadata": {},
   "outputs": [
    {
     "name": "stdout",
     "output_type": "stream",
     "text": [
      "Размер файла: 18954 байт\n"
     ]
    }
   ],
   "source": [
    "from PIL import Image\n",
    "import os\n",
    "\n",
    "# Создаем изображение с шириной 251 и высотой 25\n",
    "width = 251\n",
    "height = 25\n",
    "image = Image.new('RGB', (width, height), color='white')\n",
    "\n",
    "# Заполняем изображение случайными цветами (или можно оставить белым)\n",
    "for x in range(width):\n",
    "    for y in range(height):\n",
    "        image.putpixel((x, y), (x % 256, y % 256, (x + y) % 256))\n",
    "\n",
    "# Сохраняем как BMP\n",
    "image.save('output.bmp', 'BMP')\n",
    "\n",
    "# Проверяем размер файла\n",
    "file_size = os.path.getsize('output.bmp')\n",
    "print(f\"Размер файла: {file_size} байт\")"
   ]
  }
 ],
 "metadata": {
  "kernelspec": {
   "display_name": "Python 3",
   "language": "python",
   "name": "python3"
  },
  "language_info": {
   "codemirror_mode": {
    "name": "ipython",
    "version": 3
   },
   "file_extension": ".py",
   "mimetype": "text/x-python",
   "name": "python",
   "nbconvert_exporter": "python",
   "pygments_lexer": "ipython3",
   "version": "3.12.5"
  }
 },
 "nbformat": 4,
 "nbformat_minor": 2
}
