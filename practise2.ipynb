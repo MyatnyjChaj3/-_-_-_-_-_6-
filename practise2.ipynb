{
  "nbformat": 4,
  "nbformat_minor": 0,
  "metadata": {
    "colab": {
      "provenance": [],
      "authorship_tag": "ABX9TyOXRTi99/toQqOR66rX+c4V",
      "include_colab_link": true
    },
    "kernelspec": {
      "name": "python3",
      "display_name": "Python 3"
    },
    "language_info": {
      "name": "python"
    }
  },
  "cells": [
    {
      "cell_type": "markdown",
      "metadata": {
        "id": "view-in-github",
        "colab_type": "text"
      },
      "source": [
        "<a href=\"https://colab.research.google.com/github/MyatnyjChaj3/-_-_-_-_-_6-/blob/master/practise2.ipynb\" target=\"_parent\"><img src=\"https://colab.research.google.com/assets/colab-badge.svg\" alt=\"Open In Colab\"/></a>"
      ]
    },
    {
      "cell_type": "code",
      "execution_count": null,
      "metadata": {
        "id": "90xQhRaApHWk"
      },
      "outputs": [],
      "source": []
    },
    {
      "cell_type": "code",
      "execution_count": null,
      "metadata": {
        "id": "pM8fzEX8KTCI",
        "colab": {
          "base_uri": "https://localhost:8080/",
          "height": 542
        },
        "outputId": "0eadf22f-9aaa-4a41-c6f4-6fa2eeee773a"
      },
      "outputs": [
        {
          "output_type": "display_data",
          "data": {
            "text/html": [
              "<html>\n",
              "<head><meta charset=\"utf-8\" /></head>\n",
              "<body>\n",
              "    <div>            <script src=\"https://cdnjs.cloudflare.com/ajax/libs/mathjax/2.7.5/MathJax.js?config=TeX-AMS-MML_SVG\"></script><script type=\"text/javascript\">if (window.MathJax && window.MathJax.Hub && window.MathJax.Hub.Config) {window.MathJax.Hub.Config({SVG: {font: \"STIX-Web\"}});}</script>                <script type=\"text/javascript\">window.PlotlyConfig = {MathJaxConfig: 'local'};</script>\n",
              "        <script charset=\"utf-8\" src=\"https://cdn.plot.ly/plotly-2.35.2.min.js\"></script>                <div id=\"d47df2bb-cf13-4232-8966-56e75d492f63\" class=\"plotly-graph-div\" style=\"height:525px; width:100%;\"></div>            <script type=\"text/javascript\">                                    window.PLOTLYENV=window.PLOTLYENV || {};                                    if (document.getElementById(\"d47df2bb-cf13-4232-8966-56e75d492f63\")) {                    Plotly.newPlot(                        \"d47df2bb-cf13-4232-8966-56e75d492f63\",                        [{\"line\":{\"width\":1.5},\"mode\":\"lines\",\"y\":[4.808126469098188,4.876986212059339,4.751415904965644,4.436421639700911,3.9445612435993596,3.2954436384983223,2.5149470949041204,1.6341875470105856,0.6882780985947563,-0.28507082562490793,-1.2470548756199167,-2.1593227830331876,-2.9855053052240077,-3.69266515220234,-4.252610092441103,-4.643016888181417,-4.848321252477001,-4.860338348198776,-4.678589091662455,-4.310319252183194,-3.770210586118352,-3.0797955215724744,-2.2665987284382805,-1.363039796667157,-0.40514076952372435,0.5689099416049854,1.520280008661046,2.4110413092927834,3.2056820014038436,3.872522268233472,4.3849772926793165,4.722617110062071,4.871981086346739,4.827114551144137,4.58980619162825,4.169516743223149,3.5830018199366878,2.8536439209054323,2.0105202439418113,1.087243469415746,0.12062172875925076,-0.8508088195790077,-1.7883203051631313,-2.654537103551463,-3.4149258844974435,-4.0391723468503,-4.502389754079661,-4.786111089926342,-4.8790252800645915,-4.777428128941276,-4.485369994363335,-4.014494312513647,-3.3835734108934252,-2.61776011486422,-1.7475849838751247,-0.8077391544022503,0.16430868618834948,1.129806057966654,2.050261627523023,2.888979735964745,3.6125233390363007,4.192047036557106,4.604447047499778,4.833282284831528,4.869429809771287,4.71144853456982,4.365636674130664,3.8457806560571015,3.172605499289188,2.3729485730002216,1.4786896753779823,0.5254800866735214,-0.4486787348382997,-1.4049501510797502,-2.3052106383742244,-3.113569652029551,-3.7978004690956766,-4.330624966111367,-4.690801111805548,-4.863969819850941,-4.8432274003232365,-4.629400788032515,-4.2310145752419075,-3.6639511630749926,-2.950817580302783,-2.1200442124472523,-1.2047513720278349,-0.24142889621845204,0.7315185878102047,1.6753027341832625,2.5522978472679263,3.327540899423628,3.970125396581849,4.454433522633511,4.761157440915615,4.878069036729552,4.800507413686091,4.5315647089361235,4.081962819420247,3.4696259536726535,2.7189660501899775,1.859909550479749,0.9267043262758967,-0.043445675031965614,-1.011863634377059,-1.939941783739886,-2.790680576025324,-3.5301637402464277,-4.128910416219785,-4.563050463428736,-4.8152760881992025,-4.8755318508155705,-4.74141554417038,-4.418273962181095,-3.9189897399894003,-3.2634677639516037,-2.4778416266331,-1.5934317629421657,-0.6454968032274302,0.3281720770490276,1.288757772220416,2.197964761923719,3.0195458326480056,3.720747139752508,4.273613999891653,4.656105356023958,4.852972484801704,4.856366915050664],\"type\":\"scatter\"},{\"line\":{\"width\":1.5},\"mode\":\"lines\",\"y\":[4.808668077751746,4.87680461466131,4.750518341231223,4.434843892663764,3.9423662130549886,3.292718833387712,2.5118011446084108,1.630745870640447,0.6846779049262274,-0.2886860082313298,-1.2505409212420833,-2.1625407140329957,-2.988326832847263,-3.694977791046549,-4.254321644893501,-4.644059120046842,-4.848652613259932,-4.859945627590468,-4.677487946194258,-4.308553581050061,-3.7678507810564623,-3.0769356605628504,-2.2633528251145636,-1.3595372549518232,-0.4015212247020538,0.5725021897030866,1.523701748439901,2.4141561267853335,3.2083657186660357,3.874667893927022,4.386499287478736,4.72345479683764,4.872101069170189,4.826512046678924,4.58850521982609,4.167569169724339,3.5804852883507032,2.8506587574052307,2.007185457575918,1.0836920075930425,0.11699517705532207,-0.8543658819919716,-1.7916660694316853,-2.6575381846123887,-3.4174626387193014,-4.041143641847456,-4.503717000541359,-4.786741374724523,-4.87893347573333,-4.776617895429554,-4.483873633124427,-4.012371478748104,-3.380908735284492,-2.614659829619555,-1.744172687583916,-0.8041508845495056,0.16792987660704206,1.1333158035166284,2.0535200057248444,2.8918568455619136,3.6149044787484224,4.193837277857979,4.605575019118168,4.833703018098532,4.86912653137925,4.710433335271182,4.363950026717814,3.8434898018398678,3.1698017673960024,2.3697437393739778,1.4752115066219211,0.521867246399951,-0.45228221408864866,-1.4084006099606028,-2.308370517978554,-3.1163129779291086,-3.8000178735439136,-4.332228048190356,-4.691725961691619,-4.864179566697667,-4.842713682185734,-4.6281840852317995,-4.229143393879111,-3.661500101246197,-2.9478843541083295,-2.1167457603591826,-1.2012191929220335,-0.23780380692943154,0.735092066412122,1.678682138782982,2.5553484516683853,3.3301410856541187,3.972171503422724,4.455843978261887,4.761876014916541,4.878067081825201,4.799785007812331,4.5301506521354575,4.079913485675003,3.4670230434522082,2.7159133333108616,1.856528729130528,0.9231301831349652,-0.04707065015643975,-1.0153949251661336,-1.943238608773433,-2.7936115012929883,-3.532611919006858,-4.130778247311477,-4.564263482320347,-4.815785935655425,-4.875318200827243,-4.740486914288324,-4.416667373948248,-3.9167692430087233,-3.260721882430533,-2.47467983020275,-1.5899801024485896,-0.6418928854821621,0.33178457521830407,1.2922348319115888,2.201167763739398,3.022347083013456,3.723034961655516,4.275297185092585,4.657116801240451,4.853271866904777,4.855942298620621],\"type\":\"scatter\"}],                        {\"template\":{\"data\":{\"scatter\":[{\"line\":{\"width\":3},\"marker\":{\"size\":9},\"type\":\"scatter\"}],\"scattergl\":[{\"line\":{\"width\":3},\"marker\":{\"size\":9},\"type\":\"scattergl\"}],\"scatter3d\":[{\"line\":{\"width\":3},\"marker\":{\"size\":9},\"type\":\"scatter3d\"}],\"scatterpolar\":[{\"line\":{\"width\":3},\"marker\":{\"size\":9},\"type\":\"scatterpolar\"}],\"scatterpolargl\":[{\"line\":{\"width\":3},\"marker\":{\"size\":9},\"type\":\"scatterpolargl\"}],\"scatterternary\":[{\"line\":{\"width\":3},\"marker\":{\"size\":9},\"type\":\"scatterternary\"}],\"scattergeo\":[{\"line\":{\"width\":3},\"marker\":{\"size\":9},\"type\":\"scattergeo\"}],\"table\":[{\"cells\":{\"height\":30},\"header\":{\"height\":36},\"type\":\"table\"}],\"pie\":[{\"automargin\":true,\"type\":\"pie\"}]},\"layout\":{\"xaxis\":{\"title\":{\"standoff\":15}},\"yaxis\":{\"title\":{\"standoff\":15}},\"font\":{\"size\":18}}},\"xaxis\":{\"title\":{\"text\":\"$n$\"},\"gridcolor\":\"lightgray\",\"dtick\":25,\"showgrid\":true},\"yaxis\":{\"title\":{\"text\":\"$x(n)$\"},\"gridcolor\":\"lightgray\",\"dtick\":2,\"showgrid\":true},\"title\":{\"font\":{\"size\":18},\"text\":\"Сумма косинусоид\"}},                        {\"responsive\": true}                    ).then(function(){\n",
              "                            \n",
              "var gd = document.getElementById('d47df2bb-cf13-4232-8966-56e75d492f63');\n",
              "var x = new MutationObserver(function (mutations, observer) {{\n",
              "        var display = window.getComputedStyle(gd).display;\n",
              "        if (!display || display === 'none') {{\n",
              "            console.log([gd, 'removed!']);\n",
              "            Plotly.purge(gd);\n",
              "            observer.disconnect();\n",
              "        }}\n",
              "}});\n",
              "\n",
              "// Listen for the removal of the full notebook cells\n",
              "var notebookContainer = gd.closest('#notebook-container');\n",
              "if (notebookContainer) {{\n",
              "    x.observe(notebookContainer, {childList: true});\n",
              "}}\n",
              "\n",
              "// Listen for the clearing of the current output cell\n",
              "var outputEl = gd.closest('.output');\n",
              "if (outputEl) {{\n",
              "    x.observe(outputEl, {childList: true});\n",
              "}}\n",
              "\n",
              "                        })                };                            </script>        </div>\n",
              "</body>\n",
              "</html>"
            ]
          },
          "metadata": {}
        }
      ],
      "source": [
        "import numpy as np\n",
        "import plotly.graph_objects as go\n",
        "import plotly.io as pio\n",
        "pio.templates.default = 'presentation'\n",
        "\n",
        "\"\"\"\n",
        "Практическая 2 v2. Комплексная экспонента.\n",
        "Слайд 2\n",
        "\"\"\"\n",
        "N = 128\n",
        "n = np.arange(N)\n",
        "x = 2*np.cos(0.2*n+0.1)+3*np.cos(0.2*n-0.35)\n",
        "#x = 2*np.real(np.exp())\n",
        "\n",
        "xx = 4.879*np.cos(0.2*n-0.17)\n",
        "\n",
        "\n",
        "fig = go.Figure()\n",
        "fig.add_scatter( y = x, mode='lines', line_width=1.5 )\n",
        "fig.add_scatter( y = xx, mode='lines', line_width=1.5 )\n",
        "fig.update_layout( xaxis_title=r'$n$', yaxis_title=r'$x(n)$' )\n",
        "fig.update_layout(\n",
        "    title=dict(text='Сумма косинусоид',font=dict(size=18))\n",
        "    )\n",
        "fig.update_xaxes(gridcolor=\"lightgray\",dtick=25,showgrid=True)\n",
        "fig.update_yaxes(gridcolor=\"lightgray\",dtick=2,showgrid=True)\n",
        "fig.show()\n"
      ]
    },
    {
      "cell_type": "markdown",
      "source": [
        "$2\\cos(0.2n +0.1) + 3*cos(0.2n - 0.35) =Re(2*e^{i(0.2n+0.1)}) + Re(3*e^{i(0.2n - 0.35)}) = Re(2*e^{i0.1}*e^{0.2n}) + Re(3*e^{-i0.35}*e^{0.2n}) = Re(2*e^{i0.1}*e^{i0.2n} + 3*e^{-i0.35}*e^{i0.2n}) = Re((2*e^{i0.1} + 3*e^{-i0.35})*e^{i0.2n})$"
      ],
      "metadata": {
        "id": "CBBGuHpmtqPA"
      }
    },
    {
      "cell_type": "code",
      "source": [
        "F = 2*np.exp(1j*0.1)+3*np.exp(1j*(-0.35))\n",
        "print(np.abs(F))\n",
        "print(np.angle(F))"
      ],
      "metadata": {
        "colab": {
          "base_uri": "https://localhost:8080/"
        },
        "id": "Xx-VmIaZtr0d",
        "outputId": "91c4bdfb-20ab-47ea-df52-e8ed2e7a38f9"
      },
      "execution_count": null,
      "outputs": [
        {
          "output_type": "stream",
          "name": "stdout",
          "text": [
            "4.879074218356606\n",
            "-0.17074314246335998\n"
          ]
        }
      ]
    },
    {
      "cell_type": "code",
      "source": [
        "import numpy as np\n",
        "import plotly.graph_objects as go\n",
        "import plotly.io as pio\n",
        "pio.templates.default = 'presentation'\n",
        "\n",
        "\"\"\"\n",
        "Практическая 2 v2. Комплексная экспонента.\n",
        "Слайд 2\n",
        "\"\"\"\n",
        "N = 128\n",
        "n = np.arange(N)\n",
        "x = 2*np.cos(0.2*n+0.1)+3*np.cos(0.2*n-0.35)\n",
        "#x = 2*np.real(np.exp())\n",
        "\n",
        "xx = 4.879*np.cos(0.2*n-0.17)\n",
        "x1 =\n",
        "\n",
        "fig = go.Figure()\n",
        "fig.add_scatter( y = x, mode='lines', line_width=1.5 )\n",
        "fig.add_scatter( y = xx, mode='lines', line_width=1.5 )\n",
        "fig.update_layout( xaxis_title=r'$n$', yaxis_title=r'$x(n)$' )\n",
        "fig.update_layout(\n",
        "    title=dict(text='Сумма косинусоид',font=dict(size=18))\n",
        "    )\n",
        "fig.update_xaxes(gridcolor=\"lightgray\",dtick=25,showgrid=True)\n",
        "fig.update_yaxes(gridcolor=\"lightgray\",dtick=2,showgrid=True)\n",
        "fig.show()\n"
      ],
      "metadata": {
        "id": "zbqHd0-xtwzK"
      },
      "execution_count": null,
      "outputs": []
    },
    {
      "cell_type": "markdown",
      "source": [
        "$y(n)=\\sum\\limits_{m=0}^{M-1}h(m)x(n-m)$"
      ],
      "metadata": {
        "id": "SAHoOKeRw1yr"
      }
    },
    {
      "cell_type": "code",
      "source": [
        "x = [1,2,3,4,5]\n",
        "h = [1,2,3]\n",
        "y1 = np.convolve(h,x,mode='valid')\n",
        "y2 = np.convolve(h,x,mode='same')\n",
        "y3 = np.convolve(h,x,mode='full')\n",
        "print(y1)\n",
        "print(y2)\n",
        "print(y3)"
      ],
      "metadata": {
        "colab": {
          "base_uri": "https://localhost:8080/"
        },
        "id": "Uvk7wGbmvf3K",
        "outputId": "7da51625-c84e-4603-d980-db261edc40fb"
      },
      "execution_count": null,
      "outputs": [
        {
          "output_type": "stream",
          "name": "stdout",
          "text": [
            "[10 16 22]\n",
            "[ 4 10 16 22 22]\n",
            "[ 1  4 10 16 22 22 15]\n"
          ]
        }
      ]
    }
  ]
}